{
  "cells": [
    {
      "cell_type": "code",
      "execution_count": null,
      "metadata": {
        "colab": {
          "base_uri": "https://localhost:8080/"
        },
        "id": "LTaNPkUd-G7B",
        "outputId": "5f18c537-c58e-46ee-e478-a7f3fbf93237"
      },
      "outputs": [
        {
          "output_type": "stream",
          "name": "stdout",
          "text": [
            "Mounted at /content/drive\n"
          ]
        }
      ],
      "source": [
        "from google.colab import drive\n",
        "drive.mount(\"/content/drive\", force_remount=True)\n",
        "\n",
        "!unzip -q '/content/drive/MyDrive/mp_dataset/new-plant-diseases-dataset.zip' -d '/content'\n",
        "# drive.flush_and_unmount()\n"
      ]
    },
    {
      "cell_type": "code",
      "execution_count": null,
      "metadata": {
        "id": "1_LE3CGDLXkd"
      },
      "outputs": [],
      "source": [
        "data_dir = '/content/New Plant Diseases Dataset(Augmented)/New Plant Diseases Dataset(Augmented)'\n",
        "train_dir = data_dir + '/train'\n",
        "valid_dir = data_dir + '/valid'\n",
        "test_dir = '/content/drive/MyDrive/mp_dataset/datastore/test'"
      ]
    },
    {
      "cell_type": "code",
      "source": [
        "import tensorflow\n",
        "from tensorflow import keras\n",
        "from tensorflow.keras.applications.efficientnet_v2 import EfficientNetV2S\n",
        "from tensorflow.keras.preprocessing import image\n",
        "from tensorflow.keras.models import load_model\n",
        "from tensorflow.keras.applications.efficientnet_v2 import preprocess_input, decode_predictions\n",
        "from keras.utils.np_utils import to_categorical\n",
        "import numpy as np\n",
        "import os\n"
      ],
      "metadata": {
        "id": "4usF1CsFXqyf"
      },
      "execution_count": null,
      "outputs": []
    },
    {
      "cell_type": "code",
      "source": [
        "from keras.models import Sequential,load_model,Model\n",
        "from keras.layers import Conv2D,MaxPool2D,AveragePooling2D,Dense,Flatten,ZeroPadding2D,BatchNormalization,Activation,Add,Input,Dropout,GlobalAveragePooling2D\n",
        "from keras.initializers import glorot_uniform\n",
        "from keras.preprocessing.image import ImageDataGenerator\n",
        "from keras.callbacks import ModelCheckpoint,EarlyStopping,ReduceLROnPlateau"
      ],
      "metadata": {
        "id": "NoB1Ai4HCfmR"
      },
      "execution_count": null,
      "outputs": []
    },
    {
      "cell_type": "code",
      "source": [
        "base_model_tf=EfficientNetV2S(include_top=False,weights='imagenet',input_shape=(224,224,3),classes=38)"
      ],
      "metadata": {
        "colab": {
          "base_uri": "https://localhost:8080/"
        },
        "id": "FBBqh5uDB4RO",
        "outputId": "d81d6beb-52b6-4b10-e268-7308baedd9d6"
      },
      "execution_count": null,
      "outputs": [
        {
          "output_type": "stream",
          "name": "stdout",
          "text": [
            "Downloading data from https://storage.googleapis.com/tensorflow/keras-applications/efficientnet_v2/efficientnetv2-s_notop.h5\n",
            "82427904/82420632 [==============================] - 2s 0us/step\n",
            "82436096/82420632 [==============================] - 2s 0us/step\n"
          ]
        }
      ]
    },
    {
      "cell_type": "code",
      "source": [
        "base_model_tf.trainable=False\n",
        "\n",
        "pt=Input(shape=(224,224,3))\n",
        "func=tensorflow.cast(pt,tensorflow.float32)\n",
        "x=preprocess_input(func) #This function used to zero-center each color channel wrt Imagenet dataset\n",
        "model_resnet=base_model_tf(x,training=False)\n",
        "model_resnet=GlobalAveragePooling2D()(model_resnet)\n",
        "model_resnet=Dense(128,activation='relu')(model_resnet)\n",
        "model_resnet=Dense(64,activation='relu')(model_resnet)\n",
        "model_resnet=Dense(38,activation='softmax')(model_resnet)\n",
        "\n",
        "\n",
        "model_main=Model(inputs=pt,outputs=model_resnet)\n",
        "model_main.summary()"
      ],
      "metadata": {
        "colab": {
          "base_uri": "https://localhost:8080/"
        },
        "id": "F5_v4yxfCUtO",
        "outputId": "22d6519a-1266-413d-f275-ea37f78a4307"
      },
      "execution_count": null,
      "outputs": [
        {
          "output_type": "stream",
          "name": "stdout",
          "text": [
            "Model: \"model\"\n",
            "_________________________________________________________________\n",
            " Layer (type)                Output Shape              Param #   \n",
            "=================================================================\n",
            " input_2 (InputLayer)        [(None, 224, 224, 3)]     0         \n",
            "                                                                 \n",
            " tf.cast (TFOpLambda)        (None, 224, 224, 3)       0         \n",
            "                                                                 \n",
            " efficientnetv2-s (Functiona  (None, 7, 7, 1280)       20331360  \n",
            " l)                                                              \n",
            "                                                                 \n",
            " global_average_pooling2d (G  (None, 1280)             0         \n",
            " lobalAveragePooling2D)                                          \n",
            "                                                                 \n",
            " dense (Dense)               (None, 128)               163968    \n",
            "                                                                 \n",
            " dense_1 (Dense)             (None, 64)                8256      \n",
            "                                                                 \n",
            " dense_2 (Dense)             (None, 38)                2470      \n",
            "                                                                 \n",
            "=================================================================\n",
            "Total params: 20,506,054\n",
            "Trainable params: 174,694\n",
            "Non-trainable params: 20,331,360\n",
            "_________________________________________________________________\n"
          ]
        }
      ]
    },
    {
      "cell_type": "code",
      "source": [
        "train_datagen = ImageDataGenerator(shear_range=0.2,zoom_range=0.2,horizontal_flip=False,vertical_flip=False\n",
        "                                  ,fill_mode='nearest',width_shift_range=0.2,height_shift_range=0.2)\n",
        "\n",
        "val_datagen = ImageDataGenerator()\n",
        "\n",
        "train = train_datagen.flow_from_directory(directory=train_dir,batch_size=32,target_size=(224,224),\n",
        "                                         color_mode='rgb',class_mode='categorical',seed=42)\n",
        "\n",
        "valid = val_datagen.flow_from_directory(directory=valid_dir,batch_size=32,target_size=(224,224),color_mode='rgb',class_mode='categorical')"
      ],
      "metadata": {
        "colab": {
          "base_uri": "https://localhost:8080/"
        },
        "id": "p64xkFMRCvAQ",
        "outputId": "3f4eb56f-261a-4a20-8812-aef0fab0bbde"
      },
      "execution_count": null,
      "outputs": [
        {
          "output_type": "stream",
          "name": "stdout",
          "text": [
            "Found 70295 images belonging to 38 classes.\n",
            "Found 17572 images belonging to 38 classes.\n"
          ]
        }
      ]
    },
    {
      "cell_type": "code",
      "source": [
        "print(train)"
      ],
      "metadata": {
        "colab": {
          "base_uri": "https://localhost:8080/"
        },
        "id": "DlsnQzbtVjEK",
        "outputId": "bae6f5ea-cca0-4f03-e22f-3f1ea7cc259e"
      },
      "execution_count": null,
      "outputs": [
        {
          "output_type": "stream",
          "name": "stdout",
          "text": [
            "<keras.preprocessing.image.DirectoryIterator object at 0x7fc2f00b0f90>\n"
          ]
        }
      ]
    },
    {
      "cell_type": "code",
      "source": [
        "es=EarlyStopping(monitor='val_accuracy',verbose=1,patience=5,mode='auto')\n",
        "mc=ModelCheckpoint(filepath='/content',monitor='val_accuracy',verbose=1,save_best_only=True)\n",
        "lr=ReduceLROnPlateau(monitor='val_accuracy',verbose=1,patience=3,min_lr=0.001)"
      ],
      "metadata": {
        "id": "M4OmMNNUC1A6"
      },
      "execution_count": null,
      "outputs": []
    },
    {
      "cell_type": "code",
      "source": [
        "model_main.compile(optimizer='Adam',loss='categorical_crossentropy',metrics=['accuracy'])"
      ],
      "metadata": {
        "id": "t6Hr5xCmC4lU"
      },
      "execution_count": null,
      "outputs": []
    },
    {
      "cell_type": "code",
      "source": [
        "model_main.fit(train,validation_data=valid,epochs=30,steps_per_epoch=200,verbose=1,callbacks=[es,lr])"
      ],
      "metadata": {
        "colab": {
          "base_uri": "https://localhost:8080/"
        },
        "id": "EuKtOPZoC_ZX",
        "outputId": "f4883083-6933-41f5-f736-9c94d1c667f0"
      },
      "execution_count": null,
      "outputs": [
        {
          "output_type": "stream",
          "name": "stdout",
          "text": [
            "Epoch 1/30\n",
            "200/200 [==============================] - 283s 1s/step - loss: 1.5997 - accuracy: 0.5791 - val_loss: 0.6672 - val_accuracy: 0.8046 - lr: 0.0010\n",
            "Epoch 2/30\n",
            "200/200 [==============================] - 247s 1s/step - loss: 0.5562 - accuracy: 0.8325 - val_loss: 0.4028 - val_accuracy: 0.8776 - lr: 0.0010\n",
            "Epoch 3/30\n",
            "200/200 [==============================] - 244s 1s/step - loss: 0.3577 - accuracy: 0.8923 - val_loss: 0.3280 - val_accuracy: 0.8980 - lr: 0.0010\n",
            "Epoch 4/30\n",
            "200/200 [==============================] - 245s 1s/step - loss: 0.3148 - accuracy: 0.8964 - val_loss: 0.2813 - val_accuracy: 0.9112 - lr: 0.0010\n",
            "Epoch 5/30\n",
            "200/200 [==============================] - 245s 1s/step - loss: 0.2778 - accuracy: 0.9092 - val_loss: 0.2450 - val_accuracy: 0.9209 - lr: 0.0010\n",
            "Epoch 6/30\n",
            "200/200 [==============================] - 244s 1s/step - loss: 0.2601 - accuracy: 0.9136 - val_loss: 0.2578 - val_accuracy: 0.9162 - lr: 0.0010\n",
            "Epoch 7/30\n",
            "200/200 [==============================] - 243s 1s/step - loss: 0.2370 - accuracy: 0.9217 - val_loss: 0.2405 - val_accuracy: 0.9197 - lr: 0.0010\n",
            "Epoch 8/30\n",
            "200/200 [==============================] - 241s 1s/step - loss: 0.2126 - accuracy: 0.9319 - val_loss: 0.1988 - val_accuracy: 0.9358 - lr: 0.0010\n",
            "Epoch 9/30\n",
            "200/200 [==============================] - 243s 1s/step - loss: 0.2024 - accuracy: 0.9331 - val_loss: 0.2003 - val_accuracy: 0.9356 - lr: 0.0010\n",
            "Epoch 10/30\n",
            "200/200 [==============================] - 244s 1s/step - loss: 0.1988 - accuracy: 0.9316 - val_loss: 0.1765 - val_accuracy: 0.9399 - lr: 0.0010\n",
            "Epoch 11/30\n",
            "200/200 [==============================] - 243s 1s/step - loss: 0.1696 - accuracy: 0.9411 - val_loss: 0.1759 - val_accuracy: 0.9407 - lr: 0.0010\n",
            "Epoch 12/30\n",
            "200/200 [==============================] - 245s 1s/step - loss: 0.1684 - accuracy: 0.9456 - val_loss: 0.1562 - val_accuracy: 0.9493 - lr: 0.0010\n",
            "Epoch 13/30\n",
            "200/200 [==============================] - 243s 1s/step - loss: 0.1729 - accuracy: 0.9419 - val_loss: 0.1882 - val_accuracy: 0.9371 - lr: 0.0010\n",
            "Epoch 14/30\n",
            "200/200 [==============================] - 245s 1s/step - loss: 0.1664 - accuracy: 0.9460 - val_loss: 0.1639 - val_accuracy: 0.9464 - lr: 0.0010\n",
            "Epoch 15/30\n",
            "200/200 [==============================] - 245s 1s/step - loss: 0.1718 - accuracy: 0.9418 - val_loss: 0.1567 - val_accuracy: 0.9478 - lr: 0.0010\n",
            "Epoch 16/30\n",
            "200/200 [==============================] - 245s 1s/step - loss: 0.1660 - accuracy: 0.9444 - val_loss: 0.1445 - val_accuracy: 0.9516 - lr: 0.0010\n",
            "Epoch 17/30\n",
            "200/200 [==============================] - 245s 1s/step - loss: 0.1412 - accuracy: 0.9542 - val_loss: 0.1459 - val_accuracy: 0.9503 - lr: 0.0010\n",
            "Epoch 18/30\n",
            "200/200 [==============================] - 244s 1s/step - loss: 0.1529 - accuracy: 0.9475 - val_loss: 0.1521 - val_accuracy: 0.9488 - lr: 0.0010\n",
            "Epoch 19/30\n",
            "200/200 [==============================] - 242s 1s/step - loss: 0.1506 - accuracy: 0.9505 - val_loss: 0.1469 - val_accuracy: 0.9515 - lr: 0.0010\n",
            "Epoch 20/30\n",
            "200/200 [==============================] - 242s 1s/step - loss: 0.1549 - accuracy: 0.9495 - val_loss: 0.1263 - val_accuracy: 0.9579 - lr: 0.0010\n",
            "Epoch 21/30\n",
            "200/200 [==============================] - 242s 1s/step - loss: 0.1318 - accuracy: 0.9553 - val_loss: 0.1367 - val_accuracy: 0.9542 - lr: 0.0010\n",
            "Epoch 22/30\n",
            "200/200 [==============================] - 246s 1s/step - loss: 0.1368 - accuracy: 0.9530 - val_loss: 0.1582 - val_accuracy: 0.9482 - lr: 0.0010\n",
            "Epoch 23/30\n",
            "200/200 [==============================] - 245s 1s/step - loss: 0.1310 - accuracy: 0.9550 - val_loss: 0.1408 - val_accuracy: 0.9537 - lr: 0.0010\n",
            "Epoch 24/30\n",
            "200/200 [==============================] - 245s 1s/step - loss: 0.1261 - accuracy: 0.9572 - val_loss: 0.1508 - val_accuracy: 0.9495 - lr: 0.0010\n",
            "Epoch 25/30\n",
            "200/200 [==============================] - 246s 1s/step - loss: 0.1298 - accuracy: 0.9574 - val_loss: 0.1258 - val_accuracy: 0.9569 - lr: 0.0010\n",
            "Epoch 25: early stopping\n"
          ]
        },
        {
          "output_type": "execute_result",
          "data": {
            "text/plain": [
              "<keras.callbacks.History at 0x7fee79559790>"
            ]
          },
          "metadata": {},
          "execution_count": 10
        }
      ]
    },
    {
      "cell_type": "code",
      "source": [
        "model_main.save(\"efficientnetv2s_PLANT_DISEASE.h5\")"
      ],
      "metadata": {
        "id": "LkqbHVlBtla4"
      },
      "execution_count": null,
      "outputs": []
    },
    {
      "cell_type": "code",
      "source": [
        "import matplotlib.pyplot as plt\n",
        "%matplotlib inline\n",
        "import cv2\n",
        "from PIL import Image"
      ],
      "metadata": {
        "id": "Z5dVxPRst3Zf"
      },
      "execution_count": null,
      "outputs": []
    },
    {
      "cell_type": "code",
      "source": [
        "plt.figure(figsize=(10,5))\n",
        "plt.plot(model_main.history.history['loss'],color='b',label='Training loss')\n",
        "plt.plot(model_main.history.history['val_loss'],color='r',label='Validation loss')\n",
        "plt.xlabel(\"epochs\")\n",
        "plt.ylabel(\"loss_value\")\n",
        "plt.title(\"loss\")"
      ],
      "metadata": {
        "colab": {
          "base_uri": "https://localhost:8080/",
          "height": 367
        },
        "id": "i7KM2A5HuDvk",
        "outputId": "0ff30aad-b239-4761-b6ed-72f2a5b3b1ef"
      },
      "execution_count": null,
      "outputs": [
        {
          "output_type": "execute_result",
          "data": {
            "text/plain": [
              "Text(0.5, 1.0, 'loss')"
            ]
          },
          "metadata": {},
          "execution_count": 13
        },
        {
          "output_type": "display_data",
          "data": {
            "text/plain": [
              "<Figure size 720x360 with 1 Axes>"
            ],
            "image/png": "[encoded data removed]"
          },
          "metadata": {
            "needs_background": "light"
          }
        }
      ]
    },
    {
      "cell_type": "code",
      "source": [
        "plt.figure(figsize=(10,5))\n",
        "plt.plot(model_main.history.history['accuracy'],color='b',label='Training accuracy')\n",
        "plt.plot(model_main.history.history['val_accuracy'],color='r',label='Validation accsuracy')\n",
        "plt.xlabel(\"epochs\")\n",
        "plt.ylabel(\"accuracy\")\n",
        "plt.title(\"accuracy graph\")"
      ],
      "metadata": {
        "colab": {
          "base_uri": "https://localhost:8080/",
          "height": 367
        },
        "id": "k6XvZizquLsx",
        "outputId": "8714330d-12da-41b6-e042-d55aac6aaea3"
      },
      "execution_count": null,
      "outputs": [
        {
          "output_type": "execute_result",
          "data": {
            "text/plain": [
              "Text(0.5, 1.0, 'accuracy graph')"
            ]
          },
          "metadata": {},
          "execution_count": 14
        },
        {
          "output_type": "display_data",
          "data": {
            "text/plain": [
              "<Figure size 720x360 with 1 Axes>"
            ],
            "image/png": "[encoded data removed]"
          },
          "metadata": {
            "needs_background": "light"
          }
        }
      ]
    },
    {
      "cell_type": "code",
      "source": [
        "model = load_model(\"/content/efficientnetv2s.h5\")"
      ],
      "metadata": {
        "id": "QA0iZoBaTdOo"
      },
      "execution_count": null,
      "outputs": []
    },
    {
      "cell_type": "code",
      "source": [
        "test_datagen = ImageDataGenerator()\n",
        "\n",
        "test = test_datagen.flow_from_directory(directory=test_dir,batch_size=32,target_size=(224,224),\n",
        "                                         color_mode='rgb',class_mode='categorical',seed=42)"
      ],
      "metadata": {
        "colab": {
          "base_uri": "https://localhost:8080/"
        },
        "id": "ylCWPpYJ-mK_",
        "outputId": "75035891-a1bb-44a3-e5b3-26b915905ae8"
      },
      "execution_count": null,
      "outputs": [
        {
          "output_type": "stream",
          "name": "stdout",
          "text": [
            "Found 33 images belonging to 1 classes.\n"
          ]
        }
      ]
    },
    {
      "cell_type": "code",
      "source": [
        "y_test = to_categorical(test, num_classes = 33)"
      ],
      "metadata": {
        "id": "CR3CnXi_CBp9"
      },
      "execution_count": null,
      "outputs": []
    },
    {
      "cell_type": "code",
      "source": [
        "loss, accuracy = model.evaluate(test, y_test, verbose=1)\n",
        "print(\"Test: accuracy = %f  ;  loss = %f\" % (accuracy, loss))"
      ],
      "metadata": {
        "colab": {
          "base_uri": "https://localhost:8080/"
        },
        "id": "BaknDbJ6DSmM",
        "outputId": "673e1dd9-b468-461a-fdbb-699397e0a1bf"
      },
      "execution_count": null,
      "outputs": [
        {
          "output_type": "stream",
          "name": "stdout",
          "text": [
            "2/2 [==============================] - 5s 93ms/step - loss: 764.1983 - accuracy: 0.0909\n",
            "Test: accuracy = 0.090909  ;  loss = 764.198303\n"
          ]
        }
      ]
    },
    {
      "cell_type": "code",
      "source": [
        "img = tensorflow.keras.utils.load_img(\n",
        "    \"/content/test/test/PotatoEarlyBlight1.JPG\",\n",
        "    target_size=(224, 224, 3)\n",
        ")\n",
        "input_arr = tensorflow.keras.preprocessing.image.img_to_array(img)\n",
        "input_arr = np.array([input_arr])\n",
        "result = model.predict(input_arr)"
      ],
      "metadata": {
        "id": "-a7HqvnAUHzT"
      },
      "execution_count": null,
      "outputs": []
    },
    {
      "cell_type": "code",
      "source": [
        "probability_model = tensorflow.keras.Sequential([model, \n",
        "                                         tensorflow.keras.layers.Softmax()])"
      ],
      "metadata": {
        "id": "e7lnlj2iWfTE"
      },
      "execution_count": null,
      "outputs": []
    },
    {
      "cell_type": "code",
      "source": [
        "predict = probability_model.predict(input_arr)"
      ],
      "metadata": {
        "id": "jkvbnTvhWs-R"
      },
      "execution_count": null,
      "outputs": []
    },
    {
      "cell_type": "code",
      "source": [
        "predict[0]"
      ],
      "metadata": {
        "colab": {
          "base_uri": "https://localhost:8080/"
        },
        "id": "i4weqjH-XKmg",
        "outputId": "97e40ec5-35ac-4025-8039-43caa642d3e1"
      },
      "execution_count": null,
      "outputs": [
        {
          "output_type": "execute_result",
          "data": {
            "text/plain": [
              "array([0.02517742, 0.02517742, 0.02517742, 0.02517742, 0.02517742,\n",
              "       0.02517742, 0.02517742, 0.02517742, 0.02517742, 0.02517742,\n",
              "       0.02517742, 0.02517742, 0.02517742, 0.02517742, 0.02517742,\n",
              "       0.02517742, 0.02517742, 0.02517742, 0.02517743, 0.02517742,\n",
              "       0.06843317, 0.02517956, 0.02517742, 0.02517742, 0.02517742,\n",
              "       0.02517742, 0.02517743, 0.02517742, 0.02517742, 0.02517746,\n",
              "       0.02517744, 0.02517742, 0.02517748, 0.02517742, 0.02517742,\n",
              "       0.02517742, 0.02517742, 0.02517742], dtype=float32)"
            ]
          },
          "metadata": {},
          "execution_count": 19
        }
      ]
    },
    {
      "cell_type": "code",
      "source": [
        "classes = ['Apple___Apple_scab', 'Apple___Black_rot', 'Apple___Cedar_apple_rust', 'Apple___healthy', 'Blueberry___healthy', 'Cherry_(including_sour)___Powdery_mildew', 'Cherry_(including_sour)___healthy', 'Corn_(maize)___Cercospora_leaf_spot Gray_leaf_spot', 'Corn_(maize)___Common_rust_', 'Corn_(maize)___Northern_Leaf_Blight', 'Corn_(maize)___healthy', 'Grape___Black_rot', 'Grape___Esca_(Black_Measles)', 'Grape___Leaf_blight_(Isariopsis_Leaf_Spot)', 'Grape___healthy', 'Orange___Haunglongbing_(Citrus_greening)', 'Peach___Bacterial_spot', 'Peach___healthy', 'Pepper,_bell___Bacterial_spot', 'Pepper,_bell___healthy', 'Potato___Early_blight', 'Potato___Late_blight', 'Potato___healthy', 'Raspberry___healthy', 'Soybean___healthy', 'Squash___Powdery_mildew', 'Strawberry___Leaf_scorch', 'Strawberry___healthy', 'Tomato___Bacterial_spot', 'Tomato___Early_blight', 'Tomato___Late_blight', 'Tomato___Leaf_Mold', 'Tomato___Septoria_leaf_spot', 'Tomato___Spider_mites Two-spotted_spider_mite', 'Tomato___Target_Spot', 'Tomato___Tomato_Yellow_Leaf_Curl_Virus', 'Tomato___Tomato_mosaic_virus', 'Tomato___healthy']\n"
      ],
      "metadata": {
        "id": "8xtxNDBaXTx3"
      },
      "execution_count": null,
      "outputs": []
    },
    {
      "cell_type": "code",
      "source": [
        "p = np.argmax(predict[0])\n",
        "print(classes[p])"
      ],
      "metadata": {
        "colab": {
          "base_uri": "https://localhost:8080/"
        },
        "id": "DsnyQkvlXMgd",
        "outputId": "17c134d5-847e-4a29-fc7f-dc4df04188cd"
      },
      "execution_count": null,
      "outputs": [
        {
          "output_type": "stream",
          "name": "stdout",
          "text": [
            "Potato___Early_blight\n"
          ]
        }
      ]
    }
  ],
  "metadata": {
    "colab": {
      "name": "EfficientNetV2.ipynb",
      "provenance": [],
      "collapsed_sections": []
    },
    "kernelspec": {
      "display_name": "Python 3",
      "name": "python3"
    },
    "language_info": {
      "name": "python"
    },
    "accelerator": "GPU"
  },
  "nbformat": 4,
  "nbformat_minor": 0
}